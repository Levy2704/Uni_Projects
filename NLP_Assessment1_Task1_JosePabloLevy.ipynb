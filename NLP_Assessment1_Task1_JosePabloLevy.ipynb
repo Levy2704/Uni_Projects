{
  "nbformat": 4,
  "nbformat_minor": 0,
  "metadata": {
    "colab": {
      "provenance": [],
      "gpuType": "T4",
      "authorship_tag": "ABX9TyONXdHh4knPiE6/ojOXXZzM",
      "include_colab_link": true
    },
    "kernelspec": {
      "name": "python3",
      "display_name": "Python 3"
    },
    "language_info": {
      "name": "python"
    },
    "accelerator": "GPU",
    "widgets": {
      "application/vnd.jupyter.widget-state+json": {
        "f5f3899daa5642968d6f64124f04035f": {
          "model_module": "@jupyter-widgets/controls",
          "model_name": "HBoxModel",
          "model_module_version": "1.5.0",
          "state": {
            "_dom_classes": [],
            "_model_module": "@jupyter-widgets/controls",
            "_model_module_version": "1.5.0",
            "_model_name": "HBoxModel",
            "_view_count": null,
            "_view_module": "@jupyter-widgets/controls",
            "_view_module_version": "1.5.0",
            "_view_name": "HBoxView",
            "box_style": "",
            "children": [
              "IPY_MODEL_63f29f0d01004a158d28f6a54fd9b0e0",
              "IPY_MODEL_d8d06c93b64643c9a24bfebf69c9fc5c",
              "IPY_MODEL_78991552591b403b806ca3740482560e"
            ],
            "layout": "IPY_MODEL_34477dc84738403f953773f82f362105"
          }
        },
        "63f29f0d01004a158d28f6a54fd9b0e0": {
          "model_module": "@jupyter-widgets/controls",
          "model_name": "HTMLModel",
          "model_module_version": "1.5.0",
          "state": {
            "_dom_classes": [],
            "_model_module": "@jupyter-widgets/controls",
            "_model_module_version": "1.5.0",
            "_model_name": "HTMLModel",
            "_view_count": null,
            "_view_module": "@jupyter-widgets/controls",
            "_view_module_version": "1.5.0",
            "_view_name": "HTMLView",
            "description": "",
            "description_tooltip": null,
            "layout": "IPY_MODEL_51bc2f7bfbb6406982bc27a7a025cd36",
            "placeholder": "​",
            "style": "IPY_MODEL_4ae5f7ec64104059b695e126a095c5ea",
            "value": "100%"
          }
        },
        "d8d06c93b64643c9a24bfebf69c9fc5c": {
          "model_module": "@jupyter-widgets/controls",
          "model_name": "FloatProgressModel",
          "model_module_version": "1.5.0",
          "state": {
            "_dom_classes": [],
            "_model_module": "@jupyter-widgets/controls",
            "_model_module_version": "1.5.0",
            "_model_name": "FloatProgressModel",
            "_view_count": null,
            "_view_module": "@jupyter-widgets/controls",
            "_view_module_version": "1.5.0",
            "_view_name": "ProgressView",
            "bar_style": "success",
            "description": "",
            "description_tooltip": null,
            "layout": "IPY_MODEL_67c1e23ab6ec4cdab25279ec2a9b6eed",
            "max": 50,
            "min": 0,
            "orientation": "horizontal",
            "style": "IPY_MODEL_8a7965fd330b49aab0d5f467862f62a1",
            "value": 50
          }
        },
        "78991552591b403b806ca3740482560e": {
          "model_module": "@jupyter-widgets/controls",
          "model_name": "HTMLModel",
          "model_module_version": "1.5.0",
          "state": {
            "_dom_classes": [],
            "_model_module": "@jupyter-widgets/controls",
            "_model_module_version": "1.5.0",
            "_model_name": "HTMLModel",
            "_view_count": null,
            "_view_module": "@jupyter-widgets/controls",
            "_view_module_version": "1.5.0",
            "_view_name": "HTMLView",
            "description": "",
            "description_tooltip": null,
            "layout": "IPY_MODEL_b2fdc0feec884edc9f9ba185141f9cb7",
            "placeholder": "​",
            "style": "IPY_MODEL_255c4b54fda24beab089b891dded77d4",
            "value": " 50/50 [00:07&lt;00:00,  7.46it/s]"
          }
        },
        "34477dc84738403f953773f82f362105": {
          "model_module": "@jupyter-widgets/base",
          "model_name": "LayoutModel",
          "model_module_version": "1.2.0",
          "state": {
            "_model_module": "@jupyter-widgets/base",
            "_model_module_version": "1.2.0",
            "_model_name": "LayoutModel",
            "_view_count": null,
            "_view_module": "@jupyter-widgets/base",
            "_view_module_version": "1.2.0",
            "_view_name": "LayoutView",
            "align_content": null,
            "align_items": null,
            "align_self": null,
            "border": null,
            "bottom": null,
            "display": null,
            "flex": null,
            "flex_flow": null,
            "grid_area": null,
            "grid_auto_columns": null,
            "grid_auto_flow": null,
            "grid_auto_rows": null,
            "grid_column": null,
            "grid_gap": null,
            "grid_row": null,
            "grid_template_areas": null,
            "grid_template_columns": null,
            "grid_template_rows": null,
            "height": null,
            "justify_content": null,
            "justify_items": null,
            "left": null,
            "margin": null,
            "max_height": null,
            "max_width": null,
            "min_height": null,
            "min_width": null,
            "object_fit": null,
            "object_position": null,
            "order": null,
            "overflow": null,
            "overflow_x": null,
            "overflow_y": null,
            "padding": null,
            "right": null,
            "top": null,
            "visibility": null,
            "width": null
          }
        },
        "51bc2f7bfbb6406982bc27a7a025cd36": {
          "model_module": "@jupyter-widgets/base",
          "model_name": "LayoutModel",
          "model_module_version": "1.2.0",
          "state": {
            "_model_module": "@jupyter-widgets/base",
            "_model_module_version": "1.2.0",
            "_model_name": "LayoutModel",
            "_view_count": null,
            "_view_module": "@jupyter-widgets/base",
            "_view_module_version": "1.2.0",
            "_view_name": "LayoutView",
            "align_content": null,
            "align_items": null,
            "align_self": null,
            "border": null,
            "bottom": null,
            "display": null,
            "flex": null,
            "flex_flow": null,
            "grid_area": null,
            "grid_auto_columns": null,
            "grid_auto_flow": null,
            "grid_auto_rows": null,
            "grid_column": null,
            "grid_gap": null,
            "grid_row": null,
            "grid_template_areas": null,
            "grid_template_columns": null,
            "grid_template_rows": null,
            "height": null,
            "justify_content": null,
            "justify_items": null,
            "left": null,
            "margin": null,
            "max_height": null,
            "max_width": null,
            "min_height": null,
            "min_width": null,
            "object_fit": null,
            "object_position": null,
            "order": null,
            "overflow": null,
            "overflow_x": null,
            "overflow_y": null,
            "padding": null,
            "right": null,
            "top": null,
            "visibility": null,
            "width": null
          }
        },
        "4ae5f7ec64104059b695e126a095c5ea": {
          "model_module": "@jupyter-widgets/controls",
          "model_name": "DescriptionStyleModel",
          "model_module_version": "1.5.0",
          "state": {
            "_model_module": "@jupyter-widgets/controls",
            "_model_module_version": "1.5.0",
            "_model_name": "DescriptionStyleModel",
            "_view_count": null,
            "_view_module": "@jupyter-widgets/base",
            "_view_module_version": "1.2.0",
            "_view_name": "StyleView",
            "description_width": ""
          }
        },
        "67c1e23ab6ec4cdab25279ec2a9b6eed": {
          "model_module": "@jupyter-widgets/base",
          "model_name": "LayoutModel",
          "model_module_version": "1.2.0",
          "state": {
            "_model_module": "@jupyter-widgets/base",
            "_model_module_version": "1.2.0",
            "_model_name": "LayoutModel",
            "_view_count": null,
            "_view_module": "@jupyter-widgets/base",
            "_view_module_version": "1.2.0",
            "_view_name": "LayoutView",
            "align_content": null,
            "align_items": null,
            "align_self": null,
            "border": null,
            "bottom": null,
            "display": null,
            "flex": null,
            "flex_flow": null,
            "grid_area": null,
            "grid_auto_columns": null,
            "grid_auto_flow": null,
            "grid_auto_rows": null,
            "grid_column": null,
            "grid_gap": null,
            "grid_row": null,
            "grid_template_areas": null,
            "grid_template_columns": null,
            "grid_template_rows": null,
            "height": null,
            "justify_content": null,
            "justify_items": null,
            "left": null,
            "margin": null,
            "max_height": null,
            "max_width": null,
            "min_height": null,
            "min_width": null,
            "object_fit": null,
            "object_position": null,
            "order": null,
            "overflow": null,
            "overflow_x": null,
            "overflow_y": null,
            "padding": null,
            "right": null,
            "top": null,
            "visibility": null,
            "width": null
          }
        },
        "8a7965fd330b49aab0d5f467862f62a1": {
          "model_module": "@jupyter-widgets/controls",
          "model_name": "ProgressStyleModel",
          "model_module_version": "1.5.0",
          "state": {
            "_model_module": "@jupyter-widgets/controls",
            "_model_module_version": "1.5.0",
            "_model_name": "ProgressStyleModel",
            "_view_count": null,
            "_view_module": "@jupyter-widgets/base",
            "_view_module_version": "1.2.0",
            "_view_name": "StyleView",
            "bar_color": null,
            "description_width": ""
          }
        },
        "b2fdc0feec884edc9f9ba185141f9cb7": {
          "model_module": "@jupyter-widgets/base",
          "model_name": "LayoutModel",
          "model_module_version": "1.2.0",
          "state": {
            "_model_module": "@jupyter-widgets/base",
            "_model_module_version": "1.2.0",
            "_model_name": "LayoutModel",
            "_view_count": null,
            "_view_module": "@jupyter-widgets/base",
            "_view_module_version": "1.2.0",
            "_view_name": "LayoutView",
            "align_content": null,
            "align_items": null,
            "align_self": null,
            "border": null,
            "bottom": null,
            "display": null,
            "flex": null,
            "flex_flow": null,
            "grid_area": null,
            "grid_auto_columns": null,
            "grid_auto_flow": null,
            "grid_auto_rows": null,
            "grid_column": null,
            "grid_gap": null,
            "grid_row": null,
            "grid_template_areas": null,
            "grid_template_columns": null,
            "grid_template_rows": null,
            "height": null,
            "justify_content": null,
            "justify_items": null,
            "left": null,
            "margin": null,
            "max_height": null,
            "max_width": null,
            "min_height": null,
            "min_width": null,
            "object_fit": null,
            "object_position": null,
            "order": null,
            "overflow": null,
            "overflow_x": null,
            "overflow_y": null,
            "padding": null,
            "right": null,
            "top": null,
            "visibility": null,
            "width": null
          }
        },
        "255c4b54fda24beab089b891dded77d4": {
          "model_module": "@jupyter-widgets/controls",
          "model_name": "DescriptionStyleModel",
          "model_module_version": "1.5.0",
          "state": {
            "_model_module": "@jupyter-widgets/controls",
            "_model_module_version": "1.5.0",
            "_model_name": "DescriptionStyleModel",
            "_view_count": null,
            "_view_module": "@jupyter-widgets/base",
            "_view_module_version": "1.2.0",
            "_view_name": "StyleView",
            "description_width": ""
          }
        }
      }
    }
  },
  "cells": [
    {
      "cell_type": "markdown",
      "metadata": {
        "id": "view-in-github",
        "colab_type": "text"
      },
      "source": [
        "<a href=\"https://colab.research.google.com/github/Levy2704/Uni_Projects/blob/NLP/NLP_Assessment1_Task1_JosePabloLevy.ipynb\" target=\"_parent\"><img src=\"https://colab.research.google.com/assets/colab-badge.svg\" alt=\"Open In Colab\"/></a>"
      ]
    },
    {
      "cell_type": "code",
      "execution_count": 1,
      "metadata": {
        "id": "Ds9tijYishNI"
      },
      "outputs": [],
      "source": [
        "#Install Transformer\n",
        "#pip install transformers"
      ]
    },
    {
      "cell_type": "code",
      "source": [
        "#Import libraries and pipeline\n",
        "from transformers import pipeline\n",
        "from transformers import AutoTokenizer, AutoModelForTokenClassification\n"
      ],
      "metadata": {
        "id": "2_rzXPfatfVu"
      },
      "execution_count": 2,
      "outputs": []
    },
    {
      "cell_type": "code",
      "source": [
        "tk = AutoTokenizer.from_pretrained(\"dslim/bert-base-NER\")\n",
        "md = AutoModelForTokenClassification.from_pretrained(\"dslim/bert-base-NER\")\n",
        "\n",
        "nlp=pipeline(\"ner\", model=md, tokenizer=tk)\n",
        "example = \"Levy studies at Torrens and lives in Sydney\"\n",
        "ner_results = nlp(example)\n",
        "print(ner_results)\n"
      ],
      "metadata": {
        "colab": {
          "base_uri": "https://localhost:8080/"
        },
        "id": "qr28JdVNvOy_",
        "outputId": "4ff2b2a7-c667-487e-fee1-3bbdb62b55f3"
      },
      "execution_count": 3,
      "outputs": [
        {
          "output_type": "stream",
          "name": "stdout",
          "text": [
            "[{'entity': 'B-PER', 'score': 0.9990451, 'index': 1, 'word': 'Levy', 'start': 0, 'end': 4}, {'entity': 'B-ORG', 'score': 0.9894198, 'index': 4, 'word': 'Torre', 'start': 16, 'end': 21}, {'entity': 'I-ORG', 'score': 0.95158076, 'index': 5, 'word': '##ns', 'start': 21, 'end': 23}, {'entity': 'B-LOC', 'score': 0.9988637, 'index': 9, 'word': 'Sydney', 'start': 37, 'end': 43}]\n"
          ]
        }
      ]
    },
    {
      "cell_type": "markdown",
      "source": [
        "\n",
        "Abbreviation\tDescription\n",
        "\n",
        "O\tOutside of a named entity\n",
        "\n",
        "*   O\tOutside of a named entity\n",
        "*   B-MIS\tBeginning of a miscellaneous entity right after another miscellaneous entity\n",
        "*   I-MIS\tMiscellaneous entity\n",
        "*   B-PER\tBeginning of a person’s name right after another person’s name\n",
        "*   I-PER\tPerson’s name\n",
        "*   B-ORG\tBeginning of an organization right after another organization\n",
        "*   B-LOC\tBeginning of a location right after another location\n",
        "*   I-LOC\tLocation\n",
        "\n",
        "https://huggingface.co/dslim/bert-base-NER\n",
        "\n",
        "\n",
        "\n",
        "\n",
        "\n"
      ],
      "metadata": {
        "id": "T1tS3Bkix3Xf"
      }
    },
    {
      "cell_type": "code",
      "source": [
        "sentiment_analysis = pipeline(\"sentiment-analysis\",model=\"siebert/sentiment-roberta-large-english\")\n",
        "\n",
        "texts = [\n",
        "    \"I absolutely loved the movie! The acting was fantastic.\",\n",
        "    \"The customer service was terrible. I had a horrible experience.\",\n",
        "    \"The food at the restaurant was amazing. Highly recommended!\",\n",
        "    \"I found the book to be quite disappointing. Not worth the read.\"\n",
        "]\n",
        "\n",
        "# Iterate over the texts and perform sentiment analysis\n",
        "for i, text in enumerate(texts):\n",
        "    sentiment_result = sentiment_analysis(text)\n",
        "    sentiment_label = sentiment_result[0]['label']\n",
        "    sentiment_score = sentiment_result[0]['score']\n",
        "\n",
        "    print(f\"Text {i+1}: {text}\")\n",
        "    print(f\"Sentiment: {sentiment_label} confidence score {sentiment_score}\")\n",
        "    print()\n",
        "\n",
        "\n"
      ],
      "metadata": {
        "colab": {
          "base_uri": "https://localhost:8080/"
        },
        "id": "fjyHRBPQv155",
        "outputId": "de725276-16b0-47c7-efb0-b0843af9e373"
      },
      "execution_count": 4,
      "outputs": [
        {
          "output_type": "stream",
          "name": "stderr",
          "text": [
            "Xformers is not installed correctly. If you want to use memory_efficient_attention to accelerate training use the following command to install Xformers\n",
            "pip install xformers.\n"
          ]
        },
        {
          "output_type": "stream",
          "name": "stdout",
          "text": [
            "Text 1: I absolutely loved the movie! The acting was fantastic.\n",
            "Sentiment: POSITIVE confidence score 0.9989205598831177\n",
            "\n",
            "Text 2: The customer service was terrible. I had a horrible experience.\n",
            "Sentiment: NEGATIVE confidence score 0.999503493309021\n",
            "\n",
            "Text 3: The food at the restaurant was amazing. Highly recommended!\n",
            "Sentiment: POSITIVE confidence score 0.9989305138587952\n",
            "\n",
            "Text 4: I found the book to be quite disappointing. Not worth the read.\n",
            "Sentiment: NEGATIVE confidence score 0.9995015859603882\n",
            "\n"
          ]
        }
      ]
    },
    {
      "cell_type": "markdown",
      "source": [
        "https://huggingface.co/siebert/sentiment-roberta-large-english"
      ],
      "metadata": {
        "id": "yuS3Ew18z-3Y"
      }
    },
    {
      "cell_type": "code",
      "source": [
        "pip install sentencepiece"
      ],
      "metadata": {
        "colab": {
          "base_uri": "https://localhost:8080/"
        },
        "id": "ig9EN-li3Oad",
        "outputId": "3797cd1c-dfc2-4f9a-c94e-3f724d3b7130"
      },
      "execution_count": 5,
      "outputs": [
        {
          "output_type": "stream",
          "name": "stdout",
          "text": [
            "Requirement already satisfied: sentencepiece in /usr/local/lib/python3.10/dist-packages (0.1.99)\n"
          ]
        }
      ]
    },
    {
      "cell_type": "code",
      "source": [
        "import requests\n",
        "from transformers import PegasusTokenizer, PegasusForConditionalGeneration\n",
        "\n",
        "# Load the Pegasus tokenizer and model\n",
        "model_name = \"human-centered-summarization/financial-summarization-pegasus\"\n",
        "tokenizer = PegasusTokenizer.from_pretrained(model_name)\n",
        "model = PegasusForConditionalGeneration.from_pretrained(model_name)\n",
        "\n",
        "# Specify the URL of the article or text\n",
        "url = \"https://www.forbes.com/sites/digital-assets/2023/07/04/coinbase-suddenly-surges-after-reports-suggest-sec-is-poised-to-make-a-game-changing-decision-that-could-play-havoc-with-the-price-of-bitcoin-ethereum-bnb-and-xrp/?sh=35998c011633\"\n",
        "\n",
        "# Fetch the text content from the URL\n",
        "response = requests.get(url)\n",
        "text = response.text\n",
        "\n",
        "# Tokenize the text\n",
        "inputs = tokenizer([text], truncation=True, padding='longest', max_length=512, return_tensors='pt')\n",
        "\n",
        "# Generate the summary\n",
        "summary_ids = model.generate(inputs['input_ids'], number_beams=4, length_penalty=2.0, max_length=200, min_length=30, early_stopping=True)\n",
        "summary = tokenizer.decode(summary_ids[0], skip_special_tokens=True)\n",
        "\n",
        "# Print the summarized text\n",
        "print(\"Summary:\", summary)"
      ],
      "metadata": {
        "colab": {
          "base_uri": "https://localhost:8080/"
        },
        "id": "xO1fmhJH1wYW",
        "outputId": "d10c6436-98c1-4852-d277-9f34941d70cb"
      },
      "execution_count": 10,
      "outputs": [
        {
          "output_type": "stream",
          "name": "stdout",
          "text": [
            "Summary: Coinbase Suddenly Surges After SEC Is Poised To Make A Game-Changing Decision. BNB, Ethereum also seen as possible candidates for Winklevoss Prize\n"
          ]
        }
      ]
    },
    {
      "cell_type": "markdown",
      "source": [
        "T. Passali, A. Gidiotis, E. Chatzikyriakidis and G. Tsoumakas. 2021. Towards Human-Centered Summarization: A Case Study on Financial News. In Proceedings of the First Workshop on Bridging Human-Computer Interaction and Natural Language Processing(pp. 21–27). Association for Computational Linguistics."
      ],
      "metadata": {
        "id": "yx88ABDW1w7u"
      }
    },
    {
      "cell_type": "code",
      "source": [
        "#pip install --upgrade diffusers transformers scipy\n"
      ],
      "metadata": {
        "id": "0uAXthVd6zG_"
      },
      "execution_count": 18,
      "outputs": []
    },
    {
      "cell_type": "code",
      "source": [
        "import torch\n",
        "from diffusers import StableDiffusionPipeline\n",
        "# Load the Text Generation pipeline\n",
        "text_generation = pipeline(\"text-generation\", model=\"gpt2\")\n",
        "\n",
        "# Starting prompt\n",
        "prompt = \"An astrounaut riding a unicorn spaceship,\"\n",
        "\n",
        "# Generate text\n",
        "output = text_generation(prompt, max_length=500, do_sample=True, temperature=0.7)\n",
        "\n",
        "# Print the generated text\n",
        "generated_text = output[0]['generated_text']\n",
        "print(generated_text)\n",
        "\n",
        "#Extra\n",
        "\n",
        "model_id = \"CompVis/stable-diffusion-v1-4\"\n",
        "device = \"cuda\"\n",
        "\n",
        "\n",
        "pipe = StableDiffusionPipeline.from_pretrained(model_id, torch_dtype=torch.float16)\n",
        "pipe = pipe.to(device)\n",
        "image = pipe(prompt).images[0]\n",
        "\n",
        "image.save(\"astronaut_unicorn.png\")"
      ],
      "metadata": {
        "colab": {
          "base_uri": "https://localhost:8080/",
          "height": 396,
          "referenced_widgets": [
            "f5f3899daa5642968d6f64124f04035f",
            "63f29f0d01004a158d28f6a54fd9b0e0",
            "d8d06c93b64643c9a24bfebf69c9fc5c",
            "78991552591b403b806ca3740482560e",
            "34477dc84738403f953773f82f362105",
            "51bc2f7bfbb6406982bc27a7a025cd36",
            "4ae5f7ec64104059b695e126a095c5ea",
            "67c1e23ab6ec4cdab25279ec2a9b6eed",
            "8a7965fd330b49aab0d5f467862f62a1",
            "b2fdc0feec884edc9f9ba185141f9cb7",
            "255c4b54fda24beab089b891dded77d4"
          ]
        },
        "id": "uLBxeKaG5zh2",
        "outputId": "d41ea116-b79d-4ef5-fcab-3de407edc1b2"
      },
      "execution_count": 19,
      "outputs": [
        {
          "output_type": "stream",
          "name": "stderr",
          "text": [
            "Setting `pad_token_id` to `eos_token_id`:50256 for open-end generation.\n"
          ]
        },
        {
          "output_type": "stream",
          "name": "stdout",
          "text": [
            "An astrounaut riding a unicorn spaceship, he was in a big hurry to save the world from a hostile alien invasion. Fortunately, he managed to make it across the space station and back to the first planet, whereupon, he was greeted by a giant robot who quickly took him to his home planet. The giant robot then took him to the far back of the universe and gave him a new life, and gave him a new name: Saffron, the \"Unstable\" -- a reference to the evil sorceress Serenity, who was the daughter of an evil sorcerer.\n",
            "\n",
            "When he reached the closest point of the universe, Saffron was still in the process of evolving, and decided to use his newfound strength to help save humans from a potential invasion by the evil Serenity, who stole his powers. Saffron's abilities were restored by the rest of the heroes, who turned him into a true hero, and saved the world from a hostile alien invasion. However, the heroes were forced to fight the evil sorcerer Saffron and his minions and he was defeated by the sorcerer and his minions.\n",
            "\n",
            "One of the heroes, Saffron, was now the newest one of them all. He was a scientist named Kynan, who was working on a vaccine. Kynan's team of scientists created a chemical that would cure Saffron of his powers, but Saffron would still be able to survive long enough to make it back to the real world. Kynan convinced the heroes to take him home, and Saffron was saved by the heroes.\n",
            "\n",
            "He was able to leave the planet and return to Earth where he saw a mysterious, yet familiar figure, who was his wife, Kynan, and their children. The heroes and villain had been caught by the villain of the movie, a giant robotic giant who had been on the planet for a long time. The giant robot had also been taken by an evil sorcerer who had taken all of his powers.\n",
            "\n",
            "Saffron later visited Earth, where he met the heroes and was shown to be at a party. He was being taken for a surgery, and the heroes were unable to take him due to his \"weakness.\" However, Saffron managed to take him to a ship, where he was taken to the island of Saffron and returned to his home planet where he was welcomed by the heroes.\n",
            "\n",
            "Saff\n"
          ]
        },
        {
          "output_type": "stream",
          "name": "stderr",
          "text": [
            "Cannot initialize model with low cpu memory usage because `accelerate` was not found in the environment. Defaulting to `low_cpu_mem_usage=False`. It is strongly recommended to install `accelerate` for faster and less memory-intense model loading. You can do so with: \n",
            "```\n",
            "pip install accelerate\n",
            "```\n",
            ".\n",
            "`text_config_dict` is provided which will be used to initialize `CLIPTextConfig`. The value `text_config[\"id2label\"]` will be overriden.\n"
          ]
        },
        {
          "output_type": "display_data",
          "data": {
            "text/plain": [
              "  0%|          | 0/50 [00:00<?, ?it/s]"
            ],
            "application/vnd.jupyter.widget-view+json": {
              "version_major": 2,
              "version_minor": 0,
              "model_id": "f5f3899daa5642968d6f64124f04035f"
            }
          },
          "metadata": {}
        }
      ]
    },
    {
      "cell_type": "markdown",
      "source": [
        "https://huggingface.co/gligen/diffusers-generation-text-box"
      ],
      "metadata": {
        "id": "2y5uK11N9BYd"
      }
    }
  ]
}